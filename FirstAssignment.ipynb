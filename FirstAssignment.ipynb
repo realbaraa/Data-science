{
 "cells": [
  {
   "cell_type": "code",
   "execution_count": 5,
   "metadata": {},
   "outputs": [
    {
     "name": "stdout",
     "output_type": "stream",
     "text": [
      "Name: Baraa' Rahhal\n",
      "ID: 120078\n",
      "We need less people and more food\n"
     ]
    }
   ],
   "source": [
    "Name = \"Baraa' Rahhal\"\n",
    "ID = \"120078\"\n",
    "print('Name: %s'%(Name))\n",
    "print(\"ID: %s\"%(ID))\n",
    "print(\"We need less people and more food\")"
   ]
  },
  {
   "cell_type": "code",
   "execution_count": null,
   "metadata": {},
   "outputs": [],
   "source": []
  }
 ],
 "metadata": {
  "kernelspec": {
   "display_name": "Python 3",
   "language": "python",
   "name": "python3"
  },
  "language_info": {
   "codemirror_mode": {
    "name": "ipython",
    "version": 3
   },
   "file_extension": ".py",
   "mimetype": "text/x-python",
   "name": "python",
   "nbconvert_exporter": "python",
   "pygments_lexer": "ipython3",
   "version": "3.6.5"
  }
 },
 "nbformat": 4,
 "nbformat_minor": 2
}
